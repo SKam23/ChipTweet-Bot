{
 "cells": [
  {
   "cell_type": "code",
   "execution_count": 2,
   "metadata": {},
   "outputs": [],
   "source": [
    "# !pip3 install git+https://github.com/JustAnotherArchivist/snscrape.git\n",
    "import snscrape.modules.twitter as sntwitter\n",
    "import pandas as pd\n",
    "import re\n",
    "import subprocess"
   ]
  },
  {
   "cell_type": "code",
   "execution_count": 10,
   "metadata": {},
   "outputs": [],
   "source": [
    "query = \"(from:ChipotleTweets) -filter:replies lang:en until:2023-06-06 since:2023-06-03\"\n",
    "# query = \"from:harrisonchui02 -filter:replies until:2023-06-06 since:2023-06-04\""
   ]
  },
  {
   "cell_type": "code",
   "execution_count": 11,
   "metadata": {},
   "outputs": [
    {
     "name": "stderr",
     "output_type": "stream",
     "text": [
      "Stopping after 1 empty pages\n"
     ]
    },
    {
     "name": "stdout",
     "output_type": "stream",
     "text": [
      "[]\n"
     ]
    }
   ],
   "source": [
    "def runQuery(query):\n",
    "    tweets = []\n",
    "    limit = 5000\n",
    "    mode_param = sntwitter.TwitterSearchScraperMode.TOP\n",
    "    scraped_tweets = list(sntwitter.TwitterSearchScraper(query, mode = mode_param, maxEmptyPages=1).get_items())\n",
    "\n",
    "    for tweet in scraped_tweets:\n",
    "        try:\n",
    "            tweets.append(tweet.rawContent)\n",
    "        except sntwitter.ScraperException as e:\n",
    "            print(f\"An error occurred: {str(e)}\")\n",
    "            continue\n",
    "\n",
    "        if len(tweets) == limit:\n",
    "            break\n",
    "\n",
    "    return tweets\n",
    "\n",
    "tweets = runQuery(query)\n",
    "print(tweets)\n"
   ]
  },
  {
   "cell_type": "code",
   "execution_count": 12,
   "metadata": {},
   "outputs": [],
   "source": [
    "def extract_codes(content):\n",
    "    pattern = r'Text ((\\w|[$%])+) to 888222'\n",
    "    codes = []\n",
    "    \n",
    "    for string in content:\n",
    "        match = re.search(pattern, string)\n",
    "        if match:\n",
    "            code = match.group(1)\n",
    "            codes.append(code)\n",
    "    \n",
    "    return codes\n"
   ]
  },
  {
   "cell_type": "code",
   "execution_count": 13,
   "metadata": {},
   "outputs": [
    {
     "name": "stderr",
     "output_type": "stream",
     "text": [
      "Stopping after 1 empty pages\n"
     ]
    },
    {
     "name": "stdout",
     "output_type": "stream",
     "text": [
      "[]\n"
     ]
    }
   ],
   "source": [
    "print(extract_codes(runQuery(query)))"
   ]
  },
  {
   "cell_type": "code",
   "execution_count": 14,
   "metadata": {},
   "outputs": [],
   "source": [
    "def send_message(phone_number, message):\n",
    "    # Construct the AppleScript code with the provided phone number and message\n",
    "    applescript_code = f'''\n",
    "    set phone_number to \"{phone_number}\"\n",
    "    set message_text to \"{message}\"\n",
    "\n",
    "    tell application \"Messages\"\n",
    "        set targetService to 1st service whose service type = SMS\n",
    "        set theBuddy to buddy phone_number of targetService\n",
    "        send message_text to theBuddy\n",
    "    end tell\n",
    "    '''\n",
    "\n",
    "    # Execute the AppleScript code using osascript\n",
    "    subprocess.run(['osascript', '-e', applescript_code])\n",
    "\n"
   ]
  },
  {
   "cell_type": "code",
   "execution_count": 16,
   "metadata": {},
   "outputs": [],
   "source": [
    "import time\n",
    "\n",
    "master_codes = ['BONUSFREEPOINTER%$$Z', 'FREETHREESYN35', 'FREETHREES7QXE', 'FREETHREESH4C8', 'FREETHREESJQGA', 'FREETHREESTZ8F', 'FREETHREESQ7%P', 'FREETHREES9E85', 'FREETHREESXK%2', 'FREETHREESR_FJ', 'FREETHREESMHQZ', 'FREETHREESP_TW', 'FREETHREESX3AV', 'FREETHREESPHAW', 'FREETHREES4WUQ', 'FREETHREESH%QS', 'FREETHREESG329', 'FREETHREESJ88H']  # Master list of codes\n",
    "phone = \"888222\"\n",
    "def getBurrito(interval):\n",
    "    while True:\n",
    "        codes = extract_codes(runQuery(query))\n",
    "\n",
    "        for code in codes:\n",
    "            if code not in master_codes:\n",
    "                print(\"new Code :\" + code)\n",
    "                send_message(phone, code)\n",
    "                master_codes.append(code)\n",
    "\n",
    "        time.sleep(interval)"
   ]
  },
  {
   "cell_type": "code",
   "execution_count": null,
   "metadata": {},
   "outputs": [],
   "source": [
    "getBurrito(0.1)"
   ]
  }
 ],
 "metadata": {
  "interpreter": {
   "hash": "31f2aee4e71d21fbe5cf8b01ff0e069b9275f58929596ceb00d14d90e3e16cd6"
  },
  "kernelspec": {
   "display_name": "Python 3.9.6 64-bit",
   "language": "python",
   "name": "python3"
  },
  "language_info": {
   "codemirror_mode": {
    "name": "ipython",
    "version": 3
   },
   "file_extension": ".py",
   "mimetype": "text/x-python",
   "name": "python",
   "nbconvert_exporter": "python",
   "pygments_lexer": "ipython3",
   "version": "3.10.6"
  },
  "orig_nbformat": 4
 },
 "nbformat": 4,
 "nbformat_minor": 2
}
